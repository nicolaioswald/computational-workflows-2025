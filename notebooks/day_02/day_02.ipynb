{
 "cells": [
  {
   "cell_type": "markdown",
   "metadata": {},
   "source": [
    "# Day 2\n",
    "\n",
    "Today, we will start using nf-core pipelines to find differentially abundant genes in our dataset. \n",
    "We are using data from the following paper: https://www.nature.com/articles/s41593-023-01350-3#Sec10"
   ]
  },
  {
   "cell_type": "markdown",
   "metadata": {
    "vscode": {
     "languageId": "plaintext"
    }
   },
   "source": [
    "1. Please take some time to read through the paper and understand their approach, hypotheses and goals."
   ]
  },
  {
   "cell_type": "markdown",
   "metadata": {
    "vscode": {
     "languageId": "plaintext"
    }
   },
   "source": [
    "What was the objective of the study?"
   ]
  },
  {
   "cell_type": "markdown",
   "metadata": {},
   "source": [
    "The objective of the study was investigating how gene expression and transcriptomic effects in the brain is affected by chronic oxycodone exposure and spontaneaus withdrawal in both control and SNI group. The researchers wanted to understand the genetic and molecular mechanisms which underly the use of opioides like oxycodone. Multiple brain regions (NAc, mPFC, VTA) were profiled using RNA-seq to find pathways and upstream regulators."
   ]
  },
  {
   "cell_type": "markdown",
   "metadata": {
    "vscode": {
     "languageId": "plaintext"
    }
   },
   "source": [
    "What do the conditions mean?"
   ]
  },
  {
   "cell_type": "markdown",
   "metadata": {},
   "source": [
    "oxy:    treatment group of mice receiving chronic oxycodone injections, follwed by spontaneous drug withdrawal\n",
    "\n",
    "\n",
    "sal:    control group receiving saline injections\n",
    "\n",
    "-> control for treatment"
   ]
  },
  {
   "cell_type": "markdown",
   "metadata": {},
   "source": [
    "What do the genotypes mean?"
   ]
  },
  {
   "cell_type": "markdown",
   "metadata": {},
   "source": [
    "SNI:    group of mice where a Spared Nerve Injury was performed (1-2 mm of common peroneal and sural nerves were removed)\n",
    "\n",
    "\n",
    "Sham:   control group with surgery without nerve injury\n",
    "\n",
    "-> control for pain"
   ]
  },
  {
   "cell_type": "markdown",
   "metadata": {},
   "source": [
    "Imagine you are the bioinformatician in the group who conducted this study. They hand you the raw files and ask you to analyze them.\n",
    "\n",
    "What would you do?\n",
    "\n",
    "Which groups would you compare to each other?\n",
    "\n",
    "Please also mention which outcome you would expect to see from each comparison."
   ]
  },
  {
   "cell_type": "markdown",
   "metadata": {},
   "source": [
    "- Run a pipeline for differential expression analysis for RNA-seq data. Include quality control steps\n",
    "- compare conditions within one genotype and genotypes within one condition\n",
    "    - Genotype Sham, Oxy vs. Sal: effect of oxycodone withdrawal in non-pain background.\n",
    "    - Genotype SNI, Oxy vs. Sal: effect of oxycodone withdrawal in chronic pain background. \n",
    "    - Condition Oxy, SNI vs. Sham: effect of the injury under the oxycodone withdrawal condition\n",
    "    - Condition Sal, SNI vs. Sham: effect of the injury under the control condition\n",
    "\n"
   ]
  },
  {
   "cell_type": "markdown",
   "metadata": {},
   "source": [
    "Your group gave you a very suboptimal excel sheet (conditions_runs_oxy_project.xlsx) to get the information you need for each run they uploaded to the SRA.<br>\n",
    "So, instead of directly diving into downloading the data and starting the analysis, you first need to sort the lazy table.<br>\n",
    "Use Python and Pandas to get the table into a more sensible order.<br>\n",
    "Then, perform some overview analysis and plot the results\n",
    "1. How many samples do you have per condition?\n",
    "2. How many samples do you have per genotype?\n",
    "3. How often do you have each condition per genotype?"
   ]
  },
  {
   "cell_type": "code",
   "execution_count": 34,
   "metadata": {},
   "outputs": [],
   "source": [
    "import pandas as pd\n",
    "import numpy as np\n",
    "\n",
    "# Read in metadata from files\n",
    "conditions = pd.read_excel('conditions_runs_oxy_project.xlsx', sheet_name='Sheet1', index_col=1)\n",
    "counts = pd.read_csv('base_counts.csv', index_col=0)"
   ]
  },
  {
   "cell_type": "code",
   "execution_count": 23,
   "metadata": {},
   "outputs": [
    {
     "name": "stderr",
     "output_type": "stream",
     "text": [
      "/tmp/ipykernel_1640/321045388.py:1: FutureWarning: Downcasting object dtype arrays on .fillna, .ffill, .bfill is deprecated and will change in a future version. Call result.infer_objects(copy=False) instead. To opt-in to the future behavior, set `pd.set_option('future.no_silent_downcasting', True)`\n",
      "  conditions = conditions.fillna(False)\n",
      "/tmp/ipykernel_1640/321045388.py:2: FutureWarning: Downcasting behavior in `replace` is deprecated and will be removed in a future version. To retain the old behavior, explicitly call `result.infer_objects(copy=False)`. To opt-in to the future behavior, set `pd.set_option('future.no_silent_downcasting', True)`\n",
      "  conditions = conditions.replace('x', True)\n"
     ]
    }
   ],
   "source": [
    "conditions = conditions.fillna(False)\n",
    "conditions = conditions.replace('x', True)\n",
    "conditions.drop(columns=['Patient', 'RNA-seq', 'DNA-seq'], inplace=True)"
   ]
  },
  {
   "cell_type": "code",
   "execution_count": 24,
   "metadata": {},
   "outputs": [
    {
     "data": {
      "text/html": [
       "<div>\n",
       "<style scoped>\n",
       "    .dataframe tbody tr th:only-of-type {\n",
       "        vertical-align: middle;\n",
       "    }\n",
       "\n",
       "    .dataframe tbody tr th {\n",
       "        vertical-align: top;\n",
       "    }\n",
       "\n",
       "    .dataframe thead th {\n",
       "        text-align: right;\n",
       "    }\n",
       "</style>\n",
       "<table border=\"1\" class=\"dataframe\">\n",
       "  <thead>\n",
       "    <tr style=\"text-align: right;\">\n",
       "      <th></th>\n",
       "      <th>condition: Sal</th>\n",
       "      <th>Condition: Oxy</th>\n",
       "      <th>Genotype: SNI</th>\n",
       "      <th>Genotype: Sham</th>\n",
       "    </tr>\n",
       "    <tr>\n",
       "      <th>Run</th>\n",
       "      <th></th>\n",
       "      <th></th>\n",
       "      <th></th>\n",
       "      <th></th>\n",
       "    </tr>\n",
       "  </thead>\n",
       "  <tbody>\n",
       "    <tr>\n",
       "      <th>SRR23195505</th>\n",
       "      <td>True</td>\n",
       "      <td>False</td>\n",
       "      <td>True</td>\n",
       "      <td>False</td>\n",
       "    </tr>\n",
       "    <tr>\n",
       "      <th>SRR23195506</th>\n",
       "      <td>False</td>\n",
       "      <td>True</td>\n",
       "      <td>False</td>\n",
       "      <td>True</td>\n",
       "    </tr>\n",
       "    <tr>\n",
       "      <th>SRR23195507</th>\n",
       "      <td>True</td>\n",
       "      <td>False</td>\n",
       "      <td>False</td>\n",
       "      <td>True</td>\n",
       "    </tr>\n",
       "    <tr>\n",
       "      <th>SRR23195508</th>\n",
       "      <td>False</td>\n",
       "      <td>True</td>\n",
       "      <td>True</td>\n",
       "      <td>False</td>\n",
       "    </tr>\n",
       "    <tr>\n",
       "      <th>SRR23195509</th>\n",
       "      <td>False</td>\n",
       "      <td>True</td>\n",
       "      <td>True</td>\n",
       "      <td>False</td>\n",
       "    </tr>\n",
       "    <tr>\n",
       "      <th>SRR23195510</th>\n",
       "      <td>True</td>\n",
       "      <td>False</td>\n",
       "      <td>True</td>\n",
       "      <td>False</td>\n",
       "    </tr>\n",
       "    <tr>\n",
       "      <th>SRR23195511</th>\n",
       "      <td>False</td>\n",
       "      <td>True</td>\n",
       "      <td>False</td>\n",
       "      <td>True</td>\n",
       "    </tr>\n",
       "    <tr>\n",
       "      <th>SRR23195512</th>\n",
       "      <td>True</td>\n",
       "      <td>False</td>\n",
       "      <td>False</td>\n",
       "      <td>True</td>\n",
       "    </tr>\n",
       "    <tr>\n",
       "      <th>SRR23195513</th>\n",
       "      <td>True</td>\n",
       "      <td>False</td>\n",
       "      <td>True</td>\n",
       "      <td>False</td>\n",
       "    </tr>\n",
       "    <tr>\n",
       "      <th>SRR23195514</th>\n",
       "      <td>False</td>\n",
       "      <td>True</td>\n",
       "      <td>False</td>\n",
       "      <td>True</td>\n",
       "    </tr>\n",
       "    <tr>\n",
       "      <th>SRR23195515</th>\n",
       "      <td>True</td>\n",
       "      <td>False</td>\n",
       "      <td>False</td>\n",
       "      <td>True</td>\n",
       "    </tr>\n",
       "    <tr>\n",
       "      <th>SRR23195516</th>\n",
       "      <td>False</td>\n",
       "      <td>True</td>\n",
       "      <td>True</td>\n",
       "      <td>False</td>\n",
       "    </tr>\n",
       "    <tr>\n",
       "      <th>SRR23195517</th>\n",
       "      <td>False</td>\n",
       "      <td>True</td>\n",
       "      <td>True</td>\n",
       "      <td>False</td>\n",
       "    </tr>\n",
       "    <tr>\n",
       "      <th>SRR23195518</th>\n",
       "      <td>True</td>\n",
       "      <td>False</td>\n",
       "      <td>True</td>\n",
       "      <td>False</td>\n",
       "    </tr>\n",
       "    <tr>\n",
       "      <th>SRR23195519</th>\n",
       "      <td>False</td>\n",
       "      <td>True</td>\n",
       "      <td>False</td>\n",
       "      <td>True</td>\n",
       "    </tr>\n",
       "    <tr>\n",
       "      <th>SRR23195520</th>\n",
       "      <td>True</td>\n",
       "      <td>False</td>\n",
       "      <td>False</td>\n",
       "      <td>True</td>\n",
       "    </tr>\n",
       "  </tbody>\n",
       "</table>\n",
       "</div>"
      ],
      "text/plain": [
       "             condition: Sal  Condition: Oxy  Genotype: SNI  Genotype: Sham\n",
       "Run                                                                       \n",
       "SRR23195505            True           False           True           False\n",
       "SRR23195506           False            True          False            True\n",
       "SRR23195507            True           False          False            True\n",
       "SRR23195508           False            True           True           False\n",
       "SRR23195509           False            True           True           False\n",
       "SRR23195510            True           False           True           False\n",
       "SRR23195511           False            True          False            True\n",
       "SRR23195512            True           False          False            True\n",
       "SRR23195513            True           False           True           False\n",
       "SRR23195514           False            True          False            True\n",
       "SRR23195515            True           False          False            True\n",
       "SRR23195516           False            True           True           False\n",
       "SRR23195517           False            True           True           False\n",
       "SRR23195518            True           False           True           False\n",
       "SRR23195519           False            True          False            True\n",
       "SRR23195520            True           False          False            True"
      ]
     },
     "execution_count": 24,
     "metadata": {},
     "output_type": "execute_result"
    }
   ],
   "source": [
    "conditions"
   ]
  },
  {
   "cell_type": "code",
   "execution_count": 28,
   "metadata": {},
   "outputs": [
    {
     "data": {
      "text/plain": [
       "condition: Sal    8\n",
       "Condition: Oxy    8\n",
       "dtype: int64"
      ]
     },
     "execution_count": 28,
     "metadata": {},
     "output_type": "execute_result"
    }
   ],
   "source": [
    "# samples per condition\n",
    "conditions.filter(regex='condition|Condition').sum()"
   ]
  },
  {
   "cell_type": "code",
   "execution_count": 26,
   "metadata": {},
   "outputs": [
    {
     "data": {
      "text/plain": [
       "Genotype: SNI     8\n",
       "Genotype: Sham    8\n",
       "dtype: int64"
      ]
     },
     "execution_count": 26,
     "metadata": {},
     "output_type": "execute_result"
    }
   ],
   "source": [
    "# samples per genotype\n",
    "conditions.filter(regex='Genotype').sum()"
   ]
  },
  {
   "cell_type": "code",
   "execution_count": 33,
   "metadata": {},
   "outputs": [
    {
     "name": "stdout",
     "output_type": "stream",
     "text": [
      "Genotype: SNI                 False True \n",
      "Genotype: Sham                True  False\n",
      "condition: Sal Condition: Oxy            \n",
      "False          True               4     4\n",
      "True           False              4     4\n"
     ]
    }
   ],
   "source": [
    "# samples per combined condition and genotype\n",
    "combination_counts = pd.crosstab(\n",
    "    index=[conditions[\"condition: Sal\"], conditions[\"Condition: Oxy\"]],\n",
    "    columns=[conditions[\"Genotype: SNI\"], conditions[\"Genotype: Sham\"]]\n",
    ")\n",
    "print(combination_counts)"
   ]
  },
  {
   "cell_type": "markdown",
   "metadata": {},
   "source": [
    "They were so kind to also provide you with the information of the number of bases per run, so that you can know how much space the data will take on your Cluster.<br>\n",
    "Add a new column to your fancy table with this information (base_counts.csv) and sort your dataframe according to this information and the condition.\n",
    "\n",
    "Then select the 2 smallest runs from your dataset and download them from SRA (maybe an nf-core pipeline can help here?...)"
   ]
  },
  {
   "cell_type": "code",
   "execution_count": 44,
   "metadata": {},
   "outputs": [],
   "source": [
    "# Join dataframes, sort by 'Bases' and pick the two smallest runs\n",
    "smallest_runs = pd.DataFrame(conditions.join(counts, how='inner').sort_values(by='Bases', ascending=True)[:2].index)\n",
    "smallest_runs.to_csv('ids.csv', index=False, header=None)"
   ]
  },
  {
   "cell_type": "code",
   "execution_count": 45,
   "metadata": {},
   "outputs": [
    {
     "name": "stdout",
     "output_type": "stream",
     "text": [
      "\n",
      "\u001b[1m\u001b[38;5;232m\u001b[48;5;43m N E X T F L O W \u001b[0;2m  ~  \u001b[mversion 25.04.7\u001b[m\n",
      "\u001b[K\n",
      "Launching\u001b[35m `https://github.com/nf-core/fetchngs` \u001b[0;2m[\u001b[0;1;36mstupefied_sammet\u001b[0;2m] DSL2 - \u001b[36mrevision: \u001b[0;36m8ec2d934f9 [1.12.0]\u001b[m\n",
      "\u001b[K\n",
      "ERROR ~ Unable to acquire lock on session with ID f3cdac15-2d36-4419-b233-94d5ac0a6748\n",
      "\n",
      "Common reasons for this error are:\n",
      " - You are trying to resume the execution of an already running pipeline\n",
      " - A previous execution was abruptly interrupted, leaving the session open\n",
      "\n",
      "You can see which process is holding the lock file by using the following command:\n",
      " - lsof /mnt/c/Users/NicolaiOswald/OneDrive - UT Cloud/Dokumente/Studium Tübingen/Computational Workflows/computational-workflows-2025/notebooks/day_02/.nextflow/cache/f3cdac15-2d36-4419-b233-94d5ac0a6748/db/LOCK\n",
      "\n",
      " -- Check '.nextflow.log' file for details\n"
     ]
    }
   ],
   "source": [
    "# run nf-core/fetchngs with the following command:\n",
    "!nextflow run nf-core/fetchngs -profile docker -r 1.12.0 --input samples.csv --outdir fetchngs --max_memory \"12GB\" -resume"
   ]
  },
  {
   "cell_type": "markdown",
   "metadata": {},
   "source": [
    "While your files are downloading, get back to the paper and explain how you would try to reproduce the analysis.<br>\n",
    "When you are done with this shout, so we can discuss the different ideas."
   ]
  },
  {
   "cell_type": "markdown",
   "metadata": {},
   "source": [
    "Optimally, find a existing nf-core pipeline for RNA-seq analysis which uses the packages mentioned in the paper (HISAT2, HT-Seq, DESeq2). Proposal: use nf-core/rnaseq"
   ]
  }
 ],
 "metadata": {
  "kernelspec": {
   "display_name": "Python (cw)",
   "language": "python",
   "name": "cw"
  },
  "language_info": {
   "codemirror_mode": {
    "name": "ipython",
    "version": 3
   },
   "file_extension": ".py",
   "mimetype": "text/x-python",
   "name": "python",
   "nbconvert_exporter": "python",
   "pygments_lexer": "ipython3",
   "version": "3.13.7"
  }
 },
 "nbformat": 4,
 "nbformat_minor": 2
}
