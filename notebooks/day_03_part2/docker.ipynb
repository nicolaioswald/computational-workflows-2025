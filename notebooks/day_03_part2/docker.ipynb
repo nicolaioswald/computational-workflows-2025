{
 "cells": [
  {
   "cell_type": "markdown",
   "metadata": {},
   "source": [
    "# A short introduction to containerized software\n",
    "\n",
    "After spending time using nf-core pipelines to answer bioinformatic questions, we will focus on the processes that lie behind these pipelines now.\n",
    "\n",
    "Today, we will focus on containerization, namely via Docker. \n",
    "\n"
   ]
  },
  {
   "cell_type": "markdown",
   "metadata": {},
   "source": [
    "1. Check if Docker is installed."
   ]
  },
  {
   "cell_type": "code",
   "execution_count": 1,
   "metadata": {},
   "outputs": [
    {
     "name": "stdout",
     "output_type": "stream",
     "text": [
      "Client:\n",
      " Version:    28.4.0\n",
      " Context:    default\n",
      " Debug Mode: false\n",
      " Plugins:\n",
      "  ai: Docker AI Agent - Ask Gordon (Docker Inc.)\n",
      "    Version:  v1.9.11\n",
      "    Path:     /usr/local/lib/docker/cli-plugins/docker-ai\n",
      "  buildx: Docker Buildx (Docker Inc.)\n",
      "    Version:  v0.28.0-desktop.1\n",
      "    Path:     /usr/local/lib/docker/cli-plugins/docker-buildx\n",
      "  cloud: Docker Cloud (Docker Inc.)\n",
      "    Version:  v0.4.29\n",
      "    Path:     /usr/local/lib/docker/cli-plugins/docker-cloud\n",
      "  compose: Docker Compose (Docker Inc.)\n",
      "    Version:  v2.39.4-desktop.1\n",
      "    Path:     /usr/local/lib/docker/cli-plugins/docker-compose\n",
      "  debug: Get a shell into any image or container (Docker Inc.)\n",
      "    Version:  0.0.42\n",
      "    Path:     /usr/local/lib/docker/cli-plugins/docker-debug\n",
      "  desktop: Docker Desktop commands (Docker Inc.)\n",
      "    Version:  v0.2.0\n",
      "    Path:     /usr/local/lib/docker/cli-plugins/docker-desktop\n",
      "  extension: Manages Docker extensions (Docker Inc.)\n",
      "    Version:  v0.2.31\n",
      "    Path:     /usr/local/lib/docker/cli-plugins/docker-extension\n",
      "  init: Creates Docker-related starter files for your project (Docker Inc.)\n",
      "    Version:  v1.4.0\n",
      "    Path:     /usr/local/lib/docker/cli-plugins/docker-init\n",
      "  mcp: Docker MCP Plugin (Docker Inc.)\n",
      "    Version:  v0.21.0\n",
      "    Path:     /home/n_oswald/.docker/cli-plugins/docker-mcp\n",
      "  model: Docker Model Runner (Docker Inc.)\n",
      "    Version:  v0.1.41\n",
      "    Path:     /usr/local/lib/docker/cli-plugins/docker-model\n",
      "  sbom: View the packaged-based Software Bill Of Materials (SBOM) for an image (Anchore Inc.)\n",
      "    Version:  0.6.0\n",
      "    Path:     /usr/local/lib/docker/cli-plugins/docker-sbom\n",
      "  scout: Docker Scout (Docker Inc.)\n",
      "    Version:  v1.18.3\n",
      "    Path:     /usr/local/lib/docker/cli-plugins/docker-scout\n",
      "\n",
      "Server:\n",
      " Containers: 18\n",
      "  Running: 0\n",
      "  Paused: 0\n",
      "  Stopped: 18\n",
      " Images: 26\n",
      " Server Version: 28.4.0\n",
      " Storage Driver: overlayfs\n",
      "  driver-type: io.containerd.snapshotter.v1\n",
      " Logging Driver: json-file\n",
      " Cgroup Driver: cgroupfs\n",
      " Cgroup Version: 2\n",
      " Plugins:\n",
      "  Volume: local\n",
      "  Network: bridge host ipvlan macvlan null overlay\n",
      "  Log: awslogs fluentd gcplogs gelf journald json-file local splunk syslog\n",
      " CDI spec directories:\n",
      "  /etc/cdi\n",
      "  /var/run/cdi\n",
      " Discovered Devices:\n",
      "  cdi: docker.com/gpu=webgpu\n",
      " Swarm: inactive\n",
      " Runtimes: io.containerd.runc.v2 nvidia runc\n",
      " Default Runtime: runc\n",
      " Init Binary: docker-init\n",
      " containerd version: 05044ec0a9a75232cad458027ca83437aae3f4da\n",
      " runc version: v1.2.5-0-g59923ef\n",
      " init version: de40ad0\n",
      " Security Options:\n",
      "  seccomp\n",
      "   Profile: builtin\n",
      "  cgroupns\n",
      " Kernel Version: 6.6.87.2-microsoft-standard-WSL2\n",
      " Operating System: Docker Desktop\n",
      " OSType: linux\n",
      " Architecture: x86_64\n",
      " CPUs: 16\n",
      " Total Memory: 15.51GiB\n",
      " Name: docker-desktop\n",
      " ID: 6f481b59-21a0-4891-aa18-91f0ebeedac0\n",
      " Docker Root Dir: /var/lib/docker\n",
      " Debug Mode: false\n",
      " HTTP Proxy: http.docker.internal:3128\n",
      " HTTPS Proxy: http.docker.internal:3128\n",
      " No Proxy: hubproxy.docker.internal\n",
      " Labels:\n",
      "  com.docker.desktop.address=unix:///var/run/docker-cli.sock\n",
      " Experimental: false\n",
      " Insecure Registries:\n",
      "  hubproxy.docker.internal:5555\n",
      "  ::1/128\n",
      "  127.0.0.0/8\n",
      " Live Restore Enabled: false\n",
      "\n"
     ]
    }
   ],
   "source": [
    "!docker info"
   ]
  },
  {
   "cell_type": "markdown",
   "metadata": {},
   "source": [
    "### What is a container?\n",
    "\n",
    "It's a lightweight, portable, and isolated environment that packages software and all its dependencies together."
   ]
  },
  {
   "cell_type": "markdown",
   "metadata": {},
   "source": [
    "### Why do we use containers?\n",
    "\n",
    "Applications can be run reliably accross different systems. Containers use host system’s OS kernel. Processes, filesystems, and network settings are kept separate from other containers and the host."
   ]
  },
  {
   "cell_type": "markdown",
   "metadata": {},
   "source": [
    "### What is a docker image?\n",
    "\n",
    "It's a blueprint for creating containers"
   ]
  },
  {
   "cell_type": "markdown",
   "metadata": {},
   "source": [
    "### Let's run our first docker image:"
   ]
  },
  {
   "cell_type": "markdown",
   "metadata": {},
   "source": [
    "### Login to docker"
   ]
  },
  {
   "cell_type": "code",
   "execution_count": 2,
   "metadata": {},
   "outputs": [],
   "source": [
    "# This you need to do on the command line directly"
   ]
  },
  {
   "cell_type": "markdown",
   "metadata": {},
   "source": [
    "### Run your first docker container"
   ]
  },
  {
   "cell_type": "code",
   "execution_count": 65,
   "metadata": {},
   "outputs": [
    {
     "name": "stdout",
     "output_type": "stream",
     "text": [
      "\n",
      "Hello from Docker!\n",
      "This message shows that your installation appears to be working correctly.\n",
      "\n",
      "To generate this message, Docker took the following steps:\n",
      " 1. The Docker client contacted the Docker daemon.\n",
      " 2. The Docker daemon pulled the \"hello-world\" image from the Docker Hub.\n",
      "    (amd64)\n",
      " 3. The Docker daemon created a new container from that image which runs the\n",
      "    executable that produces the output you are currently reading.\n",
      " 4. The Docker daemon streamed that output to the Docker client, which sent it\n",
      "    to your terminal.\n",
      "\n",
      "To try something more ambitious, you can run an Ubuntu container with:\n",
      " $ docker run -it ubuntu bash\n",
      "\n",
      "Share images, automate workflows, and more with a free Docker ID:\n",
      " https://hub.docker.com/\n",
      "\n",
      "For more examples and ideas, visit:\n",
      " https://docs.docker.com/get-started/\n",
      "\n"
     ]
    }
   ],
   "source": [
    "!docker run hello-world"
   ]
  },
  {
   "cell_type": "markdown",
   "metadata": {},
   "source": [
    "### Find the container ID"
   ]
  },
  {
   "cell_type": "code",
   "execution_count": 66,
   "metadata": {},
   "outputs": [
    {
     "name": "stdout",
     "output_type": "stream",
     "text": [
      "CONTAINER ID   IMAGE                                                                         COMMAND                  CREATED         STATUS                      PORTS     NAMES\n",
      "1e06422f5aba   hello-world                                                                   \"/hello\"                 2 seconds ago   Exited (0) 2 seconds ago              admiring_wilson\n",
      "1fa5e27e42d9   community.wave.seqera.io/library/fastqc:0.12.1--af7a5314d5015c29              \"/usr/local/bin/_ent…\"   18 hours ago    Exited (0) 17 hours ago               elegant_hoover\n",
      "8f8428fd562d   my_dockerfile:test                                                            \"cowsay 'Moo, moo!'\"     18 hours ago    Exited (0) 18 hours ago               hardcore_dewdney\n",
      "1f069c85a7a1   b465b107bfc1                                                                  \"cowsay Mooh!\"           18 hours ago    Exited (0) 18 hours ago               hopeful_germain\n",
      "7be793bd0c35   a112e7c5f39f                                                                  \"cowsay --help\"          18 hours ago    Exited (0) 18 hours ago               busy_khorana\n",
      "f2dbb852f663   community.wave.seqera.io/library/fastqc:0.12.1--af7a5314d5015c29              \"/usr/local/bin/_ent…\"   18 hours ago    Exited (130) 18 hours ago             blissful_bell\n",
      "82ef260fe8a9   quay.io/biocontainers/r-shinyngs:1.8.8--r43hdfd78af_0                         \"/usr/local/env-exec…\"   21 hours ago    Exited (0) 21 hours ago               nxf-w2rL9HSdD4Ph3KB8orvdbexH\n",
      "594d7f616a7c   quay.io/biocontainers/r-shinyngs:1.8.8--r43hdfd78af_0                         \"/usr/local/env-exec…\"   21 hours ago    Exited (0) 21 hours ago               nxf-VQO6MgdSBQBuPIDsicO4dTcl\n",
      "bbf9e95225ec   quay.io/biocontainers/bioconductor-deseq2:1.34.0--r41hc247a5b_3               \"/usr/local/env-exec…\"   22 hours ago    Exited (137) 22 hours ago             nxf-37rho3Bmf005doYV15Ha06wy\n",
      "8a56f7a882fb   quay.io/biocontainers/bioconductor-deseq2:1.34.0--r41hc247a5b_3               \"/usr/local/env-exec…\"   22 hours ago    Exited (137) 22 hours ago             nxf-b0VlhUhLT24cBBIimuf1DHYM\n",
      "86d6a9744db3   quay.io/biocontainers/bioconductor-deseq2:1.34.0--r41hc247a5b_3               \"/usr/local/env-exec…\"   22 hours ago    Exited (137) 22 hours ago             nxf-z23Re3pPANQciu9ZgYc6ZNRm\n",
      "aa8530b0970d   quay.io/biocontainers/bioconductor-deseq2:1.34.0--r41hc247a5b_3               \"/usr/local/env-exec…\"   22 hours ago    Exited (137) 22 hours ago             nxf-FvuI4EwA6zSaZLMAfvj3vj6r\n",
      "50ecac9b3c34   quay.io/biocontainers/salmon:1.10.3--h6dccd9a_2                               \"/usr/local/env-exec…\"   26 hours ago    Exited (137) 26 hours ago             nxf-MbHiqJw42N3wFaCdQXM3dRlc\n",
      "c3d3f7c54060   community.wave.seqera.io/library/htslib_samtools_star_gawk:ae438e9a604351a4   \"/usr/local/bin/_ent…\"   28 hours ago    Exited (137) 28 hours ago             nxf-juBsC8Im7j8neSMzLTIahk30\n",
      "f503c8e87c0a   quay.io/biocontainers/fq:0.12.0--h9ee0642_0                                   \"/usr/local/env-exec…\"   37 hours ago    Exited (137) 37 hours ago             nxf-XKmw0In4Qf6DweUWqRIrbg0g\n",
      "ee2c229b54fb   quay.io/biocontainers/fastqc:0.12.1--hdfd78af_0                               \"/usr/local/env-exec…\"   43 hours ago    Exited (137) 42 hours ago             nxf-Ifj660U4dVgvLcjZHCuCV0jC\n",
      "af1d15f736fc   quay.io/biocontainers/fastqc:0.12.1--hdfd78af_0                               \"/usr/local/env-exec…\"   43 hours ago    Exited (137) 42 hours ago             nxf-37k0TTkjsNS94TbtuPenienK\n"
     ]
    }
   ],
   "source": [
    "# show all containers\n",
    "!docker ps -a"
   ]
  },
  {
   "cell_type": "code",
   "execution_count": 67,
   "metadata": {},
   "outputs": [
    {
     "name": "stdout",
     "output_type": "stream",
     "text": [
      "1e06422f5aba\n"
     ]
    }
   ],
   "source": [
    "# show id of container with image name \"hello-world\"\n",
    "!docker ps -aq --filter ancestor=hello-world"
   ]
  },
  {
   "cell_type": "markdown",
   "metadata": {},
   "source": [
    "### Delete the container again, give prove its deleted"
   ]
  },
  {
   "cell_type": "code",
   "execution_count": 68,
   "metadata": {},
   "outputs": [
    {
     "name": "stdout",
     "output_type": "stream",
     "text": [
      "1e06422f5aba\n",
      "CONTAINER ID   IMAGE     COMMAND   CREATED   STATUS    PORTS     NAMES\n"
     ]
    }
   ],
   "source": [
    "# access Docker ID by IMAGE name and remove the container(s)\n",
    "!docker ps -aq --filter ancestor=hello-world | xargs docker container rm\n",
    "!docker ps -a --filter ancestor=hello-world"
   ]
  },
  {
   "cell_type": "code",
   "execution_count": 69,
   "metadata": {},
   "outputs": [
    {
     "name": "stdout",
     "output_type": "stream",
     "text": [
      "CONTAINER ID   IMAGE                                                                         COMMAND                  CREATED        STATUS                      PORTS     NAMES\n",
      "1fa5e27e42d9   community.wave.seqera.io/library/fastqc:0.12.1--af7a5314d5015c29              \"/usr/local/bin/_ent…\"   18 hours ago   Exited (0) 17 hours ago               elegant_hoover\n",
      "8f8428fd562d   my_dockerfile:test                                                            \"cowsay 'Moo, moo!'\"     18 hours ago   Exited (0) 18 hours ago               hardcore_dewdney\n",
      "1f069c85a7a1   b465b107bfc1                                                                  \"cowsay Mooh!\"           18 hours ago   Exited (0) 18 hours ago               hopeful_germain\n",
      "7be793bd0c35   a112e7c5f39f                                                                  \"cowsay --help\"          18 hours ago   Exited (0) 18 hours ago               busy_khorana\n",
      "f2dbb852f663   community.wave.seqera.io/library/fastqc:0.12.1--af7a5314d5015c29              \"/usr/local/bin/_ent…\"   18 hours ago   Exited (130) 18 hours ago             blissful_bell\n",
      "82ef260fe8a9   quay.io/biocontainers/r-shinyngs:1.8.8--r43hdfd78af_0                         \"/usr/local/env-exec…\"   21 hours ago   Exited (0) 21 hours ago               nxf-w2rL9HSdD4Ph3KB8orvdbexH\n",
      "594d7f616a7c   quay.io/biocontainers/r-shinyngs:1.8.8--r43hdfd78af_0                         \"/usr/local/env-exec…\"   21 hours ago   Exited (0) 21 hours ago               nxf-VQO6MgdSBQBuPIDsicO4dTcl\n",
      "bbf9e95225ec   quay.io/biocontainers/bioconductor-deseq2:1.34.0--r41hc247a5b_3               \"/usr/local/env-exec…\"   22 hours ago   Exited (137) 22 hours ago             nxf-37rho3Bmf005doYV15Ha06wy\n",
      "8a56f7a882fb   quay.io/biocontainers/bioconductor-deseq2:1.34.0--r41hc247a5b_3               \"/usr/local/env-exec…\"   22 hours ago   Exited (137) 22 hours ago             nxf-b0VlhUhLT24cBBIimuf1DHYM\n",
      "86d6a9744db3   quay.io/biocontainers/bioconductor-deseq2:1.34.0--r41hc247a5b_3               \"/usr/local/env-exec…\"   22 hours ago   Exited (137) 22 hours ago             nxf-z23Re3pPANQciu9ZgYc6ZNRm\n",
      "aa8530b0970d   quay.io/biocontainers/bioconductor-deseq2:1.34.0--r41hc247a5b_3               \"/usr/local/env-exec…\"   22 hours ago   Exited (137) 22 hours ago             nxf-FvuI4EwA6zSaZLMAfvj3vj6r\n",
      "50ecac9b3c34   quay.io/biocontainers/salmon:1.10.3--h6dccd9a_2                               \"/usr/local/env-exec…\"   26 hours ago   Exited (137) 26 hours ago             nxf-MbHiqJw42N3wFaCdQXM3dRlc\n",
      "c3d3f7c54060   community.wave.seqera.io/library/htslib_samtools_star_gawk:ae438e9a604351a4   \"/usr/local/bin/_ent…\"   28 hours ago   Exited (137) 28 hours ago             nxf-juBsC8Im7j8neSMzLTIahk30\n",
      "f503c8e87c0a   quay.io/biocontainers/fq:0.12.0--h9ee0642_0                                   \"/usr/local/env-exec…\"   37 hours ago   Exited (137) 37 hours ago             nxf-XKmw0In4Qf6DweUWqRIrbg0g\n",
      "ee2c229b54fb   quay.io/biocontainers/fastqc:0.12.1--hdfd78af_0                               \"/usr/local/env-exec…\"   43 hours ago   Exited (137) 42 hours ago             nxf-Ifj660U4dVgvLcjZHCuCV0jC\n",
      "af1d15f736fc   quay.io/biocontainers/fastqc:0.12.1--hdfd78af_0                               \"/usr/local/env-exec…\"   43 hours ago   Exited (137) 42 hours ago             nxf-37k0TTkjsNS94TbtuPenienK\n"
     ]
    }
   ],
   "source": [
    "# show all containers\n",
    "!docker ps -a"
   ]
  },
  {
   "cell_type": "markdown",
   "metadata": {},
   "source": [
    "### FASTQC is a very useful tool as you've learned last week. Let's try and run it from command line\n",
    "\n",
    "Link to the software: https://www.bioinformatics.babraham.ac.uk/projects/fastqc/"
   ]
  },
  {
   "cell_type": "markdown",
   "metadata": {},
   "source": [
    "Please describe the steps you took to download and run the software for the example fastq file from last week below:"
   ]
  },
  {
   "cell_type": "markdown",
   "metadata": {},
   "source": [
    "Install the tool\n",
    "\n",
    "1. download FASTQC zip file\n",
    "2. extract it\n",
    "3. make it executable `chmod 755 fastqc`\n",
    "4. add to PATH\n",
    "\n",
    "Run FastQC\n",
    "\n",
    "5. download fastq file\n",
    "6. run `fastqc <file.fastq> -o <out_dir>`"
   ]
  },
  {
   "cell_type": "markdown",
   "metadata": {},
   "source": [
    "### Very well, now let's try to make use of its docker container\n",
    "\n",
    "1. create a container holding fastqc using seqera containers (https://seqera.io/containers/)\n",
    "2. use the container to generate a fastqc html of the example fastq file"
   ]
  },
  {
   "cell_type": "code",
   "execution_count": 21,
   "metadata": {},
   "outputs": [
    {
     "name": "stdout",
     "output_type": "stream",
     "text": [
      "0.12.1--af7a5314d5015c29: Pulling from library/fastqc\n",
      "Digest: sha256:b7f6caf359264cf86da901b0aa5f66735a6506fcfbf103c66db6987253ad44c1\n",
      "Status: Image is up to date for community.wave.seqera.io/library/fastqc:0.12.1--af7a5314d5015c29\n",
      "community.wave.seqera.io/library/fastqc:0.12.1--af7a5314d5015c29\n",
      "Digest: sha256:b7f6caf359264cf86da901b0aa5f66735a6506fcfbf103c66db6987253ad44c1\n",
      "Status: Image is up to date for community.wave.seqera.io/library/fastqc:0.12.1--af7a5314d5015c29\n",
      "community.wave.seqera.io/library/fastqc:0.12.1--af7a5314d5015c29\n"
     ]
    }
   ],
   "source": [
    "# pull the container\n",
    "!docker pull community.wave.seqera.io/library/fastqc:0.12.1--af7a5314d5015c29"
   ]
  },
  {
   "cell_type": "code",
   "execution_count": 1,
   "metadata": {},
   "outputs": [
    {
     "name": "stdout",
     "output_type": "stream",
     "text": [
      "mkdir: cannot create directory ‘fastqc_results’: File exists\n",
      "application/gzip\n",
      "Started analysis of SRX19144486_SRR23195516_1.fastq.gz\n",
      "Approx 5% complete for SRX19144486_SRR23195516_1.fastq.gz\n",
      "Approx 10% complete for SRX19144486_SRR23195516_1.fastq.gz\n",
      "Approx 15% complete for SRX19144486_SRR23195516_1.fastq.gz\n",
      "Approx 20% complete for SRX19144486_SRR23195516_1.fastq.gz\n",
      "Approx 25% complete for SRX19144486_SRR23195516_1.fastq.gz\n",
      "Approx 30% complete for SRX19144486_SRR23195516_1.fastq.gz\n",
      "Approx 35% complete for SRX19144486_SRR23195516_1.fastq.gz\n",
      "Approx 40% complete for SRX19144486_SRR23195516_1.fastq.gz\n",
      "Approx 45% complete for SRX19144486_SRR23195516_1.fastq.gz\n",
      "Approx 50% complete for SRX19144486_SRR23195516_1.fastq.gz\n",
      "Approx 55% complete for SRX19144486_SRR23195516_1.fastq.gz\n",
      "Approx 60% complete for SRX19144486_SRR23195516_1.fastq.gz\n",
      "Approx 65% complete for SRX19144486_SRR23195516_1.fastq.gz\n",
      "Approx 70% complete for SRX19144486_SRR23195516_1.fastq.gz\n",
      "Approx 75% complete for SRX19144486_SRR23195516_1.fastq.gz\n",
      "Approx 80% complete for SRX19144486_SRR23195516_1.fastq.gz\n",
      "Approx 85% complete for SRX19144486_SRR23195516_1.fastq.gz\n",
      "Approx 90% complete for SRX19144486_SRR23195516_1.fastq.gz\n",
      "Approx 95% complete for SRX19144486_SRR23195516_1.fastq.gz\n",
      "Analysis complete for SRX19144486_SRR23195516_1.fastq.gz\n"
     ]
    }
   ],
   "source": [
    "# run the container and save the results to a new \"fastqc_results\" directory\n",
    "!mkdir fastqc_results\n",
    "\n",
    "!docker run -v \"${PWD}/../day_02/fetchngs/fastq:/data\" \\\n",
    "    -v \"${PWD}/fastqc_results:/output\" \\\n",
    "    community.wave.seqera.io/library/fastqc:0.12.1--af7a5314d5015c29 \\\n",
    "    fastqc /data/SRX19144486_SRR23195516_1.fastq.gz --outdir /output -t 12"
   ]
  },
  {
   "cell_type": "markdown",
   "metadata": {},
   "source": [
    "### Now that you know how to use a docker container, which approach was easier and which approach will be easier in the future?"
   ]
  },
  {
   "cell_type": "markdown",
   "metadata": {},
   "source": [
    "### What would you say, which approach is more reproducible?\n",
    "\n",
    "Creating the Docker container is a easy process using sequera.io. All dependencies are included and the container, once created, can be pulled and used from everywhere on every system. This makes the results reproducible.\n",
    "\n",
    "Installing a tool locally with conda can be faster for the moment, but changing dependencies can make the tool break."
   ]
  },
  {
   "cell_type": "markdown",
   "metadata": {},
   "source": [
    "### Compare the file to last weeks fastqc results, are they identical?\n",
    "\n",
    "Both versions seem to be identical\n",
    "\n",
    "### Is the fastqc version identical?\n",
    "\n",
    "The FastQC version installed within the conda environment and in the Docker container are both the same (v0.12.1)."
   ]
  },
  {
   "cell_type": "markdown",
   "metadata": {},
   "source": [
    "## Dockerfiles\n",
    "\n",
    "We now used Docker containers and images directly to boost our research. \n",
    "\n",
    "Let's create our own toy Dockerfile including the \"cowsay\" tool (https://en.wikipedia.org/wiki/Cowsay)\n",
    "\n",
    "Hints:\n",
    "1. Docker is Linux, so you need to know the apt-get command to install \"cowsay\""
   ]
  },
  {
   "cell_type": "code",
   "execution_count": 70,
   "metadata": {},
   "outputs": [
    {
     "name": "stdout",
     "output_type": "stream",
     "text": [
      "FROM debian:bullseye-slim\n",
      "\n",
      "# install cowsay\n",
      "RUN apt-get update && apt-get install -y cowsay\n",
      "\n",
      "# Ensure cowsay is on PATH\n",
      "ENV PATH=\"/usr/games:${PATH}\"\n",
      "\n",
      "# Default command\n",
      "CMD [\"cowsay\", \"Moo, moo!\"]"
     ]
    }
   ],
   "source": [
    "# open the file \"my_dockerfile\" in a text editor\n",
    "!cat my_dockerfile"
   ]
  },
  {
   "cell_type": "markdown",
   "metadata": {},
   "source": [
    "### Explain the RUN and ENV lines you added to the file"
   ]
  },
  {
   "cell_type": "markdown",
   "metadata": {},
   "source": [
    "`RUN`: command to be executed on the command line\n",
    "\n",
    "`ENV`: specify PATH variable to find the software from everywhere within the system"
   ]
  },
  {
   "cell_type": "code",
   "execution_count": null,
   "metadata": {},
   "outputs": [
    {
     "name": "stdout",
     "output_type": "stream",
     "text": [
      "\u001b[1A\u001b[1B\u001b[0G\u001b[?25l\n",
      "\u001b[?25h\u001b[1A\u001b[0G\u001b[?25l\n",
      "\u001b[?25h\u001b[1A\u001b[0G\u001b[?25l\n",
      "\u001b[?25h\u001b[1A\u001b[0G\u001b[?25l[+] Building 0.0s (0/1)                                          docker:default\n",
      "\u001b[?25h\u001b[1A\u001b[0G\u001b[?25l[+] Building 0.2s (1/2)                                          docker:default\n",
      "\u001b[34m => [internal] load build definition from my_dockerfile                    0.0s\n",
      "\u001b[0m\u001b[34m => => transferring dockerfile: 238B                                       0.0s\n",
      "\u001b[0m => [internal] load metadata for docker.io/library/debian:bullseye-slim    0.2s\n",
      "\u001b[?25h\u001b[1A\u001b[1A\u001b[1A\u001b[1A\u001b[0G\u001b[?25l[+] Building 0.4s (1/2)                                          docker:default\n",
      "\u001b[34m => [internal] load build definition from my_dockerfile                    0.0s\n",
      "\u001b[0m\u001b[34m => => transferring dockerfile: 238B                                       0.0s\n",
      "\u001b[0m => [internal] load metadata for docker.io/library/debian:bullseye-slim    0.3s\n",
      "\u001b[?25h\u001b[1A\u001b[1A\u001b[1A\u001b[1A\u001b[0G\u001b[?25l[+] Building 0.5s (1/2)                                          docker:default\n",
      "\u001b[34m => [internal] load build definition from my_dockerfile                    0.0s\n",
      "\u001b[0m\u001b[34m => => transferring dockerfile: 238B                                       0.0s\n",
      "\u001b[0m => [internal] load metadata for docker.io/library/debian:bullseye-slim    0.5s\n",
      "\u001b[?25h\u001b[1A\u001b[1A\u001b[1A\u001b[1A\u001b[0G\u001b[?25l[+] Building 0.7s (1/2)                                          docker:default\n",
      "\u001b[34m => [internal] load build definition from my_dockerfile                    0.0s\n",
      "\u001b[0m\u001b[34m => => transferring dockerfile: 238B                                       0.0s\n",
      "\u001b[0m => [internal] load metadata for docker.io/library/debian:bullseye-slim    0.6s\n",
      "\u001b[?25h\u001b[1A\u001b[1A\u001b[1A\u001b[1A\u001b[0G\u001b[?25l[+] Building 0.8s (1/2)                                          docker:default\n",
      "\u001b[34m => [internal] load build definition from my_dockerfile                    0.0s\n",
      "\u001b[0m\u001b[34m => => transferring dockerfile: 238B                                       0.0s\n",
      "\u001b[0m => [internal] load metadata for docker.io/library/debian:bullseye-slim    0.8s\n",
      "\u001b[?25h\u001b[1A\u001b[1A\u001b[1A\u001b[1A\u001b[0G\u001b[?25l[+] Building 1.0s (1/2)                                          docker:default\n",
      "\u001b[34m => [internal] load build definition from my_dockerfile                    0.0s\n",
      "\u001b[0m\u001b[34m => => transferring dockerfile: 238B                                       0.0s\n",
      "\u001b[0m => [internal] load metadata for docker.io/library/debian:bullseye-slim    0.9s\n",
      "\u001b[?25h\u001b[1A\u001b[1A\u001b[1A\u001b[1A\u001b[0G\u001b[?25l[+] Building 1.0s (2/2)                                          docker:default\n",
      "\u001b[34m => [internal] load build definition from my_dockerfile                    0.0s\n",
      "\u001b[0m\u001b[34m => => transferring dockerfile: 238B                                       0.0s\n",
      "\u001b[0m\u001b[34m => [internal] load metadata for docker.io/library/debian:bullseye-slim    0.9s\n",
      "\u001b[0m\u001b[?25h\u001b[1A\u001b[1A\u001b[1A\u001b[1A\u001b[0G\u001b[?25l[+] Building 1.1s (4/5)                                          docker:default\n",
      "\u001b[34m => [internal] load build definition from my_dockerfile                    0.0s\n",
      "\u001b[0m\u001b[34m => => transferring dockerfile: 238B                                       0.0s\n",
      "\u001b[0m\u001b[34m => [internal] load metadata for docker.io/library/debian:bullseye-slim    0.9s\n",
      "\u001b[0m\u001b[34m => [internal] load .dockerignore                                          0.0s\n",
      "\u001b[0m\u001b[34m => => transferring context: 2B                                            0.0s\n",
      "\u001b[0m\u001b[34m => [1/2] FROM docker.io/library/debian:bullseye-slim@sha256:f807f4b16002  0.1s\n",
      "\u001b[0m\u001b[34m => => resolve docker.io/library/debian:bullseye-slim@sha256:f807f4b16002  0.0s\n",
      "\u001b[0m\u001b[?25h\u001b[1A\u001b[1A\u001b[1A\u001b[1A\u001b[1A\u001b[1A\u001b[1A\u001b[1A\u001b[0G\u001b[?25l[+] Building 1.2s (5/6)                                          docker:default\n",
      "\u001b[34m => [internal] load build definition from my_dockerfile                    0.0s\n",
      "\u001b[0m\u001b[34m => => transferring dockerfile: 238B                                       0.0s\n",
      "\u001b[0m\u001b[34m => [internal] load metadata for docker.io/library/debian:bullseye-slim    0.9s\n",
      "\u001b[0m\u001b[34m => [internal] load .dockerignore                                          0.0s\n",
      "\u001b[0m\u001b[34m => => transferring context: 2B                                            0.0s\n",
      "\u001b[0m\u001b[34m => [1/2] FROM docker.io/library/debian:bullseye-slim@sha256:f807f4b16002  0.1s\n",
      "\u001b[0m\u001b[34m => => resolve docker.io/library/debian:bullseye-slim@sha256:f807f4b16002  0.0s\n",
      "\u001b[0m\u001b[34m => CACHED [2/2] RUN apt-get update && apt-get install -y cowsay           0.0s\n",
      "\u001b[0m => exporting to image                                                     0.1s\n",
      "\u001b[34m => => exporting layers                                                    0.0s\n",
      "\u001b[0m\u001b[34m => => exporting manifest sha256:9e1f6a1c4166274cf565646466d234b347beac66  0.0s\n",
      "\u001b[0m\u001b[34m => => exporting config sha256:0fee6b2748688666bbfface33621aded18d6cd90ea  0.0s\n",
      "\u001b[0m\u001b[34m => => exporting attestation manifest sha256:ba52abc755b89fd444146ab99148  0.1s\n",
      "\u001b[0m => => exporting manifest list sha256:c073eff500c983f1e6463c58ee02dc579b2  0.0s\n",
      "\u001b[?25h\u001b[1A\u001b[1A\u001b[1A\u001b[1A\u001b[1A\u001b[1A\u001b[1A\u001b[1A\u001b[1A\u001b[1A\u001b[1A\u001b[1A\u001b[1A\u001b[1A\u001b[1A\u001b[0G\u001b[?25l[+] Building 1.5s (6/6)                                          docker:default\n",
      "\u001b[34m => [internal] load build definition from my_dockerfile                    0.0s\n",
      "\u001b[0m\u001b[34m => => transferring dockerfile: 238B                                       0.0s\n",
      "\u001b[0m\u001b[34m => [internal] load metadata for docker.io/library/debian:bullseye-slim    0.9s\n",
      "\u001b[0m\u001b[34m => [internal] load .dockerignore                                          0.0s\n",
      "\u001b[0m\u001b[34m => => transferring context: 2B                                            0.0s\n",
      "\u001b[0m\u001b[34m => [1/2] FROM docker.io/library/debian:bullseye-slim@sha256:f807f4b16002  0.1s\n",
      "\u001b[0m\u001b[34m => => resolve docker.io/library/debian:bullseye-slim@sha256:f807f4b16002  0.0s\n",
      "\u001b[0m\u001b[34m => CACHED [2/2] RUN apt-get update && apt-get install -y cowsay           0.0s\n",
      "\u001b[0m\u001b[34m => exporting to image                                                     0.2s\n",
      "\u001b[0m\u001b[34m => => exporting layers                                                    0.0s\n",
      "\u001b[0m\u001b[34m => => exporting manifest sha256:9e1f6a1c4166274cf565646466d234b347beac66  0.0s\n",
      "\u001b[0m\u001b[34m => => exporting config sha256:0fee6b2748688666bbfface33621aded18d6cd90ea  0.0s\n",
      "\u001b[0m\u001b[34m => => exporting attestation manifest sha256:ba52abc755b89fd444146ab99148  0.1s\n",
      "\u001b[0m\u001b[34m => => exporting manifest list sha256:c073eff500c983f1e6463c58ee02dc579b2  0.0s\n",
      "\u001b[0m\u001b[34m => => naming to docker.io/library/my_dockerfile:test                      0.0s\n",
      "\u001b[0m\u001b[34m => => unpacking to docker.io/library/my_dockerfile:test                   0.0s\n",
      "\u001b[0m\u001b[?25h\u001b[1A\u001b[1A\u001b[1A\u001b[1A\u001b[1A\u001b[1A\u001b[1A\u001b[1A\u001b[1A\u001b[1A\u001b[1A\u001b[1A\u001b[1A\u001b[1A\u001b[1A\u001b[1A\u001b[1A\u001b[0G\u001b[?25l[+] Building 1.5s (6/6) FINISHED                                 docker:default\n",
      "\u001b[34m => [internal] load build definition from my_dockerfile                    0.0s\n",
      "\u001b[0m\u001b[34m => => transferring dockerfile: 238B                                       0.0s\n",
      "\u001b[0m\u001b[34m => [internal] load metadata for docker.io/library/debian:bullseye-slim    0.9s\n",
      "\u001b[0m\u001b[34m => [internal] load .dockerignore                                          0.0s\n",
      "\u001b[0m\u001b[34m => => transferring context: 2B                                            0.0s\n",
      "\u001b[0m\u001b[34m => [1/2] FROM docker.io/library/debian:bullseye-slim@sha256:f807f4b16002  0.1s\n",
      "\u001b[0m\u001b[34m => => resolve docker.io/library/debian:bullseye-slim@sha256:f807f4b16002  0.0s\n",
      "\u001b[0m\u001b[34m => CACHED [2/2] RUN apt-get update && apt-get install -y cowsay           0.0s\n",
      "\u001b[0m\u001b[34m => exporting to image                                                     0.2s\n",
      "\u001b[0m\u001b[34m => => exporting layers                                                    0.0s\n",
      "\u001b[0m\u001b[34m => => exporting manifest sha256:9e1f6a1c4166274cf565646466d234b347beac66  0.0s\n",
      "\u001b[0m\u001b[34m => => exporting config sha256:0fee6b2748688666bbfface33621aded18d6cd90ea  0.0s\n",
      "\u001b[0m\u001b[34m => => exporting attestation manifest sha256:ba52abc755b89fd444146ab99148  0.1s\n",
      "\u001b[0m\u001b[34m => => exporting manifest list sha256:c073eff500c983f1e6463c58ee02dc579b2  0.0s\n",
      "\u001b[0m\u001b[34m => => naming to docker.io/library/my_dockerfile:test                      0.0s\n",
      "\u001b[0m\u001b[34m => => unpacking to docker.io/library/my_dockerfile:test                   0.0s\n",
      "\u001b[0m\u001b[?25h"
     ]
    }
   ],
   "source": [
    "# build the docker image\n",
    "!docker build -f my_dockerfile -t my_dockerfile:test ."
   ]
  },
  {
   "cell_type": "code",
   "execution_count": 73,
   "metadata": {},
   "outputs": [
    {
     "name": "stdout",
     "output_type": "stream",
     "text": [
      "CONTAINER ID   IMAGE                                                                         COMMAND                  CREATED        STATUS                      PORTS     NAMES\n",
      "1fa5e27e42d9   community.wave.seqera.io/library/fastqc:0.12.1--af7a5314d5015c29              \"/usr/local/bin/_ent…\"   18 hours ago   Exited (0) 17 hours ago               elegant_hoover\n",
      "8f8428fd562d   632e01e81b1e                                                                  \"cowsay 'Moo, moo!'\"     18 hours ago   Exited (0) 18 hours ago               hardcore_dewdney\n",
      "1f069c85a7a1   b465b107bfc1                                                                  \"cowsay Mooh!\"           18 hours ago   Exited (0) 18 hours ago               hopeful_germain\n",
      "7be793bd0c35   a112e7c5f39f                                                                  \"cowsay --help\"          18 hours ago   Exited (0) 18 hours ago               busy_khorana\n",
      "f2dbb852f663   community.wave.seqera.io/library/fastqc:0.12.1--af7a5314d5015c29              \"/usr/local/bin/_ent…\"   18 hours ago   Exited (130) 18 hours ago             blissful_bell\n",
      "82ef260fe8a9   quay.io/biocontainers/r-shinyngs:1.8.8--r43hdfd78af_0                         \"/usr/local/env-exec…\"   21 hours ago   Exited (0) 21 hours ago               nxf-w2rL9HSdD4Ph3KB8orvdbexH\n",
      "594d7f616a7c   quay.io/biocontainers/r-shinyngs:1.8.8--r43hdfd78af_0                         \"/usr/local/env-exec…\"   21 hours ago   Exited (0) 21 hours ago               nxf-VQO6MgdSBQBuPIDsicO4dTcl\n",
      "bbf9e95225ec   quay.io/biocontainers/bioconductor-deseq2:1.34.0--r41hc247a5b_3               \"/usr/local/env-exec…\"   22 hours ago   Exited (137) 22 hours ago             nxf-37rho3Bmf005doYV15Ha06wy\n",
      "8a56f7a882fb   quay.io/biocontainers/bioconductor-deseq2:1.34.0--r41hc247a5b_3               \"/usr/local/env-exec…\"   22 hours ago   Exited (137) 22 hours ago             nxf-b0VlhUhLT24cBBIimuf1DHYM\n",
      "86d6a9744db3   quay.io/biocontainers/bioconductor-deseq2:1.34.0--r41hc247a5b_3               \"/usr/local/env-exec…\"   22 hours ago   Exited (137) 22 hours ago             nxf-z23Re3pPANQciu9ZgYc6ZNRm\n",
      "aa8530b0970d   quay.io/biocontainers/bioconductor-deseq2:1.34.0--r41hc247a5b_3               \"/usr/local/env-exec…\"   22 hours ago   Exited (137) 22 hours ago             nxf-FvuI4EwA6zSaZLMAfvj3vj6r\n",
      "50ecac9b3c34   quay.io/biocontainers/salmon:1.10.3--h6dccd9a_2                               \"/usr/local/env-exec…\"   26 hours ago   Exited (137) 26 hours ago             nxf-MbHiqJw42N3wFaCdQXM3dRlc\n",
      "c3d3f7c54060   community.wave.seqera.io/library/htslib_samtools_star_gawk:ae438e9a604351a4   \"/usr/local/bin/_ent…\"   28 hours ago   Exited (137) 28 hours ago             nxf-juBsC8Im7j8neSMzLTIahk30\n",
      "f503c8e87c0a   quay.io/biocontainers/fq:0.12.0--h9ee0642_0                                   \"/usr/local/env-exec…\"   37 hours ago   Exited (137) 37 hours ago             nxf-XKmw0In4Qf6DweUWqRIrbg0g\n",
      "ee2c229b54fb   quay.io/biocontainers/fastqc:0.12.1--hdfd78af_0                               \"/usr/local/env-exec…\"   43 hours ago   Exited (137) 42 hours ago             nxf-Ifj660U4dVgvLcjZHCuCV0jC\n",
      "af1d15f736fc   quay.io/biocontainers/fastqc:0.12.1--hdfd78af_0                               \"/usr/local/env-exec…\"   43 hours ago   Exited (137) 42 hours ago             nxf-37k0TTkjsNS94TbtuPenienK\n"
     ]
    }
   ],
   "source": [
    "# make sure that the image has been built\n",
    "!docker ps -a"
   ]
  },
  {
   "cell_type": "code",
   "execution_count": 74,
   "metadata": {},
   "outputs": [
    {
     "name": "stdout",
     "output_type": "stream",
     "text": [
      " ___________\n",
      "< Moo, moo! >\n",
      " -----------\n",
      "        \\   ^__^\n",
      "         \\  (oo)\\_______\n",
      "            (__)\\       )\\/\\\n",
      "                ||----w |\n",
      "                ||     ||\n"
     ]
    }
   ],
   "source": [
    "# run the docker file \n",
    "!docker run my_dockerfile:test"
   ]
  },
  {
   "cell_type": "markdown",
   "metadata": {},
   "source": [
    "## Let's do some bioinformatics with the docker file and create a new docker file that holds the salmon tool used in rnaseq\n",
    "\n",
    "To do so, use \"curl\" in your new dockerfile to get salmon from https://github.com/COMBINE-lab/salmon/releases/download/v1.5.2/salmon-1.5.2_linux_x86_64.tar.gz"
   ]
  },
  {
   "cell_type": "code",
   "execution_count": 75,
   "metadata": {},
   "outputs": [
    {
     "name": "stdout",
     "output_type": "stream",
     "text": [
      "FROM debian:bullseye-slim\n",
      "\n",
      "LABEL image.author.name=\"Nicolai Oswald\"\n",
      "LABEL image.author.email=\"nicolai.oswald@student.uni-tuebingen.de\"\n",
      "\n",
      "# Install dependencies: wget for downloading the binaries\n",
      "RUN apt-get update && apt-get install -y \\\n",
      "    curl\n",
      "\n",
      "# Download and install Salmon\n",
      "RUN curl -L https://github.com/COMBINE-lab/salmon/releases/download/v1.5.2/salmon-1.5.2_linux_x86_64.tar.gz \\\n",
      "    | tar -xz -C /opt/ \\\n",
      "    && mv /opt/salmon-1.5.2_linux_x86_64 /opt/salmon\n",
      "\n",
      "# Add Salmon binary to PATH\n",
      "ENV PATH=\"/opt/salmon/bin:${PATH}\"\n",
      "\n",
      "# Default command to run when container starts\n",
      "CMD [\"salmon\", \"--help\"]"
     ]
    }
   ],
   "source": [
    "# use the file \"salmon_docker\" in this directory to build a new docker image\n",
    "!cat salmon_docker"
   ]
  },
  {
   "cell_type": "code",
   "execution_count": 76,
   "metadata": {},
   "outputs": [
    {
     "name": "stdout",
     "output_type": "stream",
     "text": [
      "\u001b[1A\u001b[1B\u001b[0G\u001b[?25l\n",
      "\u001b[?25h\u001b[1A\u001b[0G\u001b[?25l\n",
      "\u001b[?25h\u001b[1A\u001b[0G\u001b[?25l[+] Building 0.0s (0/1)                                          docker:default\n",
      "\u001b[?25h\u001b[1A\u001b[0G\u001b[?25l[+] Building 0.2s (1/2)                                          docker:default\n",
      "\u001b[34m => [internal] load build definition from salmon_docker                    0.0s\n",
      "\u001b[0m\u001b[34m => => transferring dockerfile: 643B                                       0.0s\n",
      "\u001b[0m => [internal] load metadata for docker.io/library/debian:bullseye-slim    0.2s\n",
      "\u001b[?25h\u001b[1A\u001b[1A\u001b[1A\u001b[1A\u001b[0G\u001b[?25l[+] Building 0.3s (1/2)                                          docker:default\n",
      "\u001b[34m => [internal] load build definition from salmon_docker                    0.0s\n",
      "\u001b[0m\u001b[34m => => transferring dockerfile: 643B                                       0.0s\n",
      "\u001b[0m => [internal] load metadata for docker.io/library/debian:bullseye-slim    0.3s\n",
      "\u001b[?25h\u001b[1A\u001b[1A\u001b[1A\u001b[1A\u001b[0G\u001b[?25l[+] Building 0.5s (1/2)                                          docker:default\n",
      "\u001b[34m => [internal] load build definition from salmon_docker                    0.0s\n",
      "\u001b[0m\u001b[34m => => transferring dockerfile: 643B                                       0.0s\n",
      "\u001b[0m => [internal] load metadata for docker.io/library/debian:bullseye-slim    0.5s\n",
      "\u001b[?25h\u001b[1A\u001b[1A\u001b[1A\u001b[1A\u001b[0G\u001b[?25l[+] Building 0.5s (2/2)                                          docker:default\n",
      "\u001b[34m => [internal] load build definition from salmon_docker                    0.0s\n",
      "\u001b[0m\u001b[34m => => transferring dockerfile: 643B                                       0.0s\n",
      "\u001b[0m\u001b[34m => [internal] load metadata for docker.io/library/debian:bullseye-slim    0.5s\n",
      "\u001b[0m\u001b[?25h\u001b[1A\u001b[1A\u001b[1A\u001b[1A\u001b[0G\u001b[?25l[+] Building 0.6s (4/6)                                          docker:default\n",
      "\u001b[34m => [internal] load build definition from salmon_docker                    0.0s\n",
      "\u001b[0m\u001b[34m => => transferring dockerfile: 643B                                       0.0s\n",
      "\u001b[0m\u001b[34m => [internal] load metadata for docker.io/library/debian:bullseye-slim    0.5s\n",
      "\u001b[0m\u001b[34m => [internal] load .dockerignore                                          0.0s\n",
      "\u001b[0m\u001b[34m => => transferring context: 2B                                            0.0s\n",
      "\u001b[0m\u001b[34m => [1/3] FROM docker.io/library/debian:bullseye-slim@sha256:f807f4b16002  0.1s\n",
      "\u001b[0m => => resolve docker.io/library/debian:bullseye-slim@sha256:f807f4b16002  0.1s\n",
      "\u001b[?25h\u001b[1A\u001b[1A\u001b[1A\u001b[1A\u001b[1A\u001b[1A\u001b[1A\u001b[1A\u001b[0G\u001b[?25l[+] Building 0.7s (6/7)                                          docker:default\n",
      "\u001b[34m => [internal] load build definition from salmon_docker                    0.0s\n",
      "\u001b[0m\u001b[34m => => transferring dockerfile: 643B                                       0.0s\n",
      "\u001b[0m\u001b[34m => [internal] load metadata for docker.io/library/debian:bullseye-slim    0.5s\n",
      "\u001b[0m\u001b[34m => [internal] load .dockerignore                                          0.0s\n",
      "\u001b[0m\u001b[34m => => transferring context: 2B                                            0.0s\n",
      "\u001b[0m\u001b[34m => [1/3] FROM docker.io/library/debian:bullseye-slim@sha256:f807f4b16002  0.1s\n",
      "\u001b[0m\u001b[34m => => resolve docker.io/library/debian:bullseye-slim@sha256:f807f4b16002  0.1s\n",
      "\u001b[0m\u001b[34m => CACHED [2/3] RUN apt-get update && apt-get install -y     curl         0.0s\n",
      "\u001b[0m\u001b[34m => CACHED [3/3] RUN curl -L https://github.com/COMBINE-lab/salmon/releas  0.0s\n",
      "\u001b[0m => exporting to image                                                     0.1s\n",
      "\u001b[34m => => exporting layers                                                    0.0s\n",
      "\u001b[0m\u001b[34m => => exporting manifest sha256:d676deb927c3aa6ee623e675f333986397f64606  0.0s\n",
      "\u001b[0m\u001b[34m => => exporting config sha256:db7af033052a3ab0ec236c4f0a95a4342fc3abbc17  0.0s\n",
      "\u001b[0m\u001b[34m => => exporting attestation manifest sha256:6a3ef3403d9b75b2030e06a7ec66  0.1s\n",
      "\u001b[0m => => exporting manifest list sha256:ee68325b93344ee5995191d5f09def79370  0.0s\n",
      "\u001b[?25h\u001b[1A\u001b[1A\u001b[1A\u001b[1A\u001b[1A\u001b[1A\u001b[1A\u001b[1A\u001b[1A\u001b[1A\u001b[1A\u001b[1A\u001b[1A\u001b[1A\u001b[1A\u001b[1A\u001b[0G\u001b[?25l[+] Building 1.0s (7/7)                                          docker:default\n",
      "\u001b[34m => [internal] load build definition from salmon_docker                    0.0s\n",
      "\u001b[0m\u001b[34m => => transferring dockerfile: 643B                                       0.0s\n",
      "\u001b[0m\u001b[34m => [internal] load metadata for docker.io/library/debian:bullseye-slim    0.5s\n",
      "\u001b[0m\u001b[34m => [internal] load .dockerignore                                          0.0s\n",
      "\u001b[0m\u001b[34m => => transferring context: 2B                                            0.0s\n",
      "\u001b[0m\u001b[34m => [1/3] FROM docker.io/library/debian:bullseye-slim@sha256:f807f4b16002  0.1s\n",
      "\u001b[0m\u001b[34m => => resolve docker.io/library/debian:bullseye-slim@sha256:f807f4b16002  0.1s\n",
      "\u001b[0m\u001b[34m => CACHED [2/3] RUN apt-get update && apt-get install -y     curl         0.0s\n",
      "\u001b[0m\u001b[34m => CACHED [3/3] RUN curl -L https://github.com/COMBINE-lab/salmon/releas  0.0s\n",
      "\u001b[0m\u001b[34m => exporting to image                                                     0.2s\n",
      "\u001b[0m\u001b[34m => => exporting layers                                                    0.0s\n",
      "\u001b[0m\u001b[34m => => exporting manifest sha256:d676deb927c3aa6ee623e675f333986397f64606  0.0s\n",
      "\u001b[0m\u001b[34m => => exporting config sha256:db7af033052a3ab0ec236c4f0a95a4342fc3abbc17  0.0s\n",
      "\u001b[0m\u001b[34m => => exporting attestation manifest sha256:6a3ef3403d9b75b2030e06a7ec66  0.1s\n",
      "\u001b[0m\u001b[34m => => exporting manifest list sha256:ee68325b93344ee5995191d5f09def79370  0.0s\n",
      "\u001b[0m\u001b[34m => => naming to docker.io/library/salmon:latest                           0.0s\n",
      "\u001b[0m\u001b[34m => => unpacking to docker.io/library/salmon:latest                        0.0s\n",
      "\u001b[0m\u001b[?25h\u001b[1A\u001b[1A\u001b[1A\u001b[1A\u001b[1A\u001b[1A\u001b[1A\u001b[1A\u001b[1A\u001b[1A\u001b[1A\u001b[1A\u001b[1A\u001b[1A\u001b[1A\u001b[1A\u001b[1A\u001b[1A\u001b[0G\u001b[?25l[+] Building 1.0s (7/7) FINISHED                                 docker:default\n",
      "\u001b[34m => [internal] load build definition from salmon_docker                    0.0s\n",
      "\u001b[0m\u001b[34m => => transferring dockerfile: 643B                                       0.0s\n",
      "\u001b[0m\u001b[34m => [internal] load metadata for docker.io/library/debian:bullseye-slim    0.5s\n",
      "\u001b[0m\u001b[34m => [internal] load .dockerignore                                          0.0s\n",
      "\u001b[0m\u001b[34m => => transferring context: 2B                                            0.0s\n",
      "\u001b[0m\u001b[34m => [1/3] FROM docker.io/library/debian:bullseye-slim@sha256:f807f4b16002  0.1s\n",
      "\u001b[0m\u001b[34m => => resolve docker.io/library/debian:bullseye-slim@sha256:f807f4b16002  0.1s\n",
      "\u001b[0m\u001b[34m => CACHED [2/3] RUN apt-get update && apt-get install -y     curl         0.0s\n",
      "\u001b[0m\u001b[34m => CACHED [3/3] RUN curl -L https://github.com/COMBINE-lab/salmon/releas  0.0s\n",
      "\u001b[0m\u001b[34m => exporting to image                                                     0.2s\n",
      "\u001b[0m\u001b[34m => => exporting layers                                                    0.0s\n",
      "\u001b[0m\u001b[34m => => exporting manifest sha256:d676deb927c3aa6ee623e675f333986397f64606  0.0s\n",
      "\u001b[0m\u001b[34m => => exporting config sha256:db7af033052a3ab0ec236c4f0a95a4342fc3abbc17  0.0s\n",
      "\u001b[0m\u001b[34m => => exporting attestation manifest sha256:6a3ef3403d9b75b2030e06a7ec66  0.1s\n",
      "\u001b[0m\u001b[34m => => exporting manifest list sha256:ee68325b93344ee5995191d5f09def79370  0.0s\n",
      "\u001b[0m\u001b[34m => => naming to docker.io/library/salmon:latest                           0.0s\n",
      "\u001b[0m\u001b[34m => => unpacking to docker.io/library/salmon:latest                        0.0s\n",
      "\u001b[0m\u001b[?25h"
     ]
    }
   ],
   "source": [
    "# build the image\n",
    "!docker build -t salmon:latest -f salmon_docker ."
   ]
  },
  {
   "cell_type": "code",
   "execution_count": 77,
   "metadata": {},
   "outputs": [
    {
     "name": "stdout",
     "output_type": "stream",
     "text": [
      "salmon 1.5.2\n"
     ]
    }
   ],
   "source": [
    "# run the docker image to give out the version of salmon\n",
    "!docker run salmon:latest salmon --version"
   ]
  },
  {
   "cell_type": "markdown",
   "metadata": {},
   "source": [
    "## Do you think bioinformaticians have to create a docker image every time they want to run a tool?\n",
    "\n",
    "Find the salmon docker image online and run it on your computer.\n",
    "\n",
    "What is https://biocontainers.pro/ ?"
   ]
  },
  {
   "cell_type": "markdown",
   "metadata": {},
   "source": [
    "You can find a salmon docker container at `combinelab/salmon`\n",
    "\n",
    "BioContainers is an open-source registry providing ready-to-use containers for bioinformatics software, enabling easy and reproducible analyses. You can find and use containers for many popular tools directly from BioContainers."
   ]
  },
  {
   "cell_type": "code",
   "execution_count": 78,
   "metadata": {},
   "outputs": [
    {
     "name": "stdout",
     "output_type": "stream",
     "text": [
      "latest: Pulling from combinelab/salmon\n",
      "Digest: sha256:cefd8bb0b2ed9b07f22b5f0fc317ddda540e5b0dc00810d1ff0d92fee5d80370\n",
      "Status: Image is up to date for combinelab/salmon:latest\n",
      "docker.io/combinelab/salmon:latest\n",
      "salmon 1.10.3\n"
     ]
    }
   ],
   "source": [
    "!docker pull combinelab/salmon:latest\n",
    "!docker run combinelab/salmon:latest salmon --version"
   ]
  },
  {
   "cell_type": "markdown",
   "metadata": {},
   "source": [
    "## Are there other ways to create Docker (or Apptainer) images?\n",
    "\n",
    "What is https://seqera.io/containers/ ?"
   ]
  },
  {
   "cell_type": "markdown",
   "metadata": {},
   "source": [
    "Besides creating a Dockerfile, you can also use automated build services like https://sequera.io/containers (as we did in the beginning).\n",
    "\n",
    "Seqera Containers is a platform that provides ready-to-use containers for bioinformatics and scientific workflows. It offers a catalog of containers for popular tools which can be used and integrated into workflow systems."
   ]
  }
 ],
 "metadata": {
  "kernelspec": {
   "display_name": "Python (cw)",
   "language": "python",
   "name": "cw"
  },
  "language_info": {
   "codemirror_mode": {
    "name": "ipython",
    "version": 3
   },
   "file_extension": ".py",
   "mimetype": "text/x-python",
   "name": "python",
   "nbconvert_exporter": "python",
   "pygments_lexer": "ipython3",
   "version": "3.13.7"
  }
 },
 "nbformat": 4,
 "nbformat_minor": 2
}
